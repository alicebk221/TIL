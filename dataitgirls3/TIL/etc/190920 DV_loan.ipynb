{
 "cells": [
  {
   "cell_type": "code",
   "execution_count": 1,
   "metadata": {},
   "outputs": [],
   "source": [
    "import numpy as np\n",
    "import pandas as pd\n",
    "import plotly.express as px\n",
    "import plotly.graph_objects as go\n",
    "import matplotlib.pyplot as plt\n",
    "import seaborn as sns"
   ]
  },
  {
   "cell_type": "code",
   "execution_count": 2,
   "metadata": {},
   "outputs": [],
   "source": [
    "loan = pd.read_csv('loan.csv')"
   ]
  },
  {
   "cell_type": "code",
   "execution_count": 3,
   "metadata": {},
   "outputs": [
    {
     "data": {
      "text/html": [
       "<div>\n",
       "<style scoped>\n",
       "    .dataframe tbody tr th:only-of-type {\n",
       "        vertical-align: middle;\n",
       "    }\n",
       "\n",
       "    .dataframe tbody tr th {\n",
       "        vertical-align: top;\n",
       "    }\n",
       "\n",
       "    .dataframe thead th {\n",
       "        text-align: right;\n",
       "    }\n",
       "</style>\n",
       "<table border=\"1\" class=\"dataframe\">\n",
       "  <thead>\n",
       "    <tr style=\"text-align: right;\">\n",
       "      <th></th>\n",
       "      <th>Loan_ID</th>\n",
       "      <th>Gender</th>\n",
       "      <th>Married</th>\n",
       "      <th>Dependents</th>\n",
       "      <th>Education</th>\n",
       "      <th>Self_Employed</th>\n",
       "      <th>ApplicantIncome</th>\n",
       "      <th>CoapplicantIncome</th>\n",
       "      <th>LoanAmount</th>\n",
       "      <th>Loan_Amount_Term</th>\n",
       "      <th>Credit_History</th>\n",
       "      <th>Property_Area</th>\n",
       "      <th>Loan_Status</th>\n",
       "    </tr>\n",
       "  </thead>\n",
       "  <tbody>\n",
       "    <tr>\n",
       "      <th>0</th>\n",
       "      <td>LP001002</td>\n",
       "      <td>Male</td>\n",
       "      <td>No</td>\n",
       "      <td>0</td>\n",
       "      <td>Graduate</td>\n",
       "      <td>No</td>\n",
       "      <td>5849</td>\n",
       "      <td>0.0</td>\n",
       "      <td>NaN</td>\n",
       "      <td>360.0</td>\n",
       "      <td>1.0</td>\n",
       "      <td>Urban</td>\n",
       "      <td>Y</td>\n",
       "    </tr>\n",
       "    <tr>\n",
       "      <th>1</th>\n",
       "      <td>LP001003</td>\n",
       "      <td>Male</td>\n",
       "      <td>Yes</td>\n",
       "      <td>1</td>\n",
       "      <td>Graduate</td>\n",
       "      <td>No</td>\n",
       "      <td>4583</td>\n",
       "      <td>1508.0</td>\n",
       "      <td>128.0</td>\n",
       "      <td>360.0</td>\n",
       "      <td>1.0</td>\n",
       "      <td>Rural</td>\n",
       "      <td>N</td>\n",
       "    </tr>\n",
       "    <tr>\n",
       "      <th>2</th>\n",
       "      <td>LP001005</td>\n",
       "      <td>Male</td>\n",
       "      <td>Yes</td>\n",
       "      <td>0</td>\n",
       "      <td>Graduate</td>\n",
       "      <td>Yes</td>\n",
       "      <td>3000</td>\n",
       "      <td>0.0</td>\n",
       "      <td>66.0</td>\n",
       "      <td>360.0</td>\n",
       "      <td>1.0</td>\n",
       "      <td>Urban</td>\n",
       "      <td>Y</td>\n",
       "    </tr>\n",
       "    <tr>\n",
       "      <th>3</th>\n",
       "      <td>LP001006</td>\n",
       "      <td>Male</td>\n",
       "      <td>Yes</td>\n",
       "      <td>0</td>\n",
       "      <td>Not Graduate</td>\n",
       "      <td>No</td>\n",
       "      <td>2583</td>\n",
       "      <td>2358.0</td>\n",
       "      <td>120.0</td>\n",
       "      <td>360.0</td>\n",
       "      <td>1.0</td>\n",
       "      <td>Urban</td>\n",
       "      <td>Y</td>\n",
       "    </tr>\n",
       "    <tr>\n",
       "      <th>4</th>\n",
       "      <td>LP001008</td>\n",
       "      <td>Male</td>\n",
       "      <td>No</td>\n",
       "      <td>0</td>\n",
       "      <td>Graduate</td>\n",
       "      <td>No</td>\n",
       "      <td>6000</td>\n",
       "      <td>0.0</td>\n",
       "      <td>141.0</td>\n",
       "      <td>360.0</td>\n",
       "      <td>1.0</td>\n",
       "      <td>Urban</td>\n",
       "      <td>Y</td>\n",
       "    </tr>\n",
       "  </tbody>\n",
       "</table>\n",
       "</div>"
      ],
      "text/plain": [
       "    Loan_ID Gender Married Dependents     Education Self_Employed  \\\n",
       "0  LP001002   Male      No          0      Graduate            No   \n",
       "1  LP001003   Male     Yes          1      Graduate            No   \n",
       "2  LP001005   Male     Yes          0      Graduate           Yes   \n",
       "3  LP001006   Male     Yes          0  Not Graduate            No   \n",
       "4  LP001008   Male      No          0      Graduate            No   \n",
       "\n",
       "   ApplicantIncome  CoapplicantIncome  LoanAmount  Loan_Amount_Term  \\\n",
       "0             5849                0.0         NaN             360.0   \n",
       "1             4583             1508.0       128.0             360.0   \n",
       "2             3000                0.0        66.0             360.0   \n",
       "3             2583             2358.0       120.0             360.0   \n",
       "4             6000                0.0       141.0             360.0   \n",
       "\n",
       "   Credit_History Property_Area Loan_Status  \n",
       "0             1.0         Urban           Y  \n",
       "1             1.0         Rural           N  \n",
       "2             1.0         Urban           Y  \n",
       "3             1.0         Urban           Y  \n",
       "4             1.0         Urban           Y  "
      ]
     },
     "execution_count": 3,
     "metadata": {},
     "output_type": "execute_result"
    }
   ],
   "source": [
    "loan.head()"
   ]
  },
  {
   "cell_type": "code",
   "execution_count": 59,
   "metadata": {},
   "outputs": [],
   "source": [
    "loan = loan[~loan['LoanAmount'].isnull()]\n",
    "loan = loan[~loan['ApplicantIncome'].isnull()]\n",
    "loan = loan[~loan['Gender'].isnull()]\n",
    "loan = loan[~loan['Loan_Amount_Term'].isnull()]"
   ]
  },
  {
   "cell_type": "code",
   "execution_count": 4,
   "metadata": {},
   "outputs": [
    {
     "data": {
      "text/plain": [
       "array([360., 120., 240.,  nan, 180.,  60., 300., 480.,  36.,  84.,  12.])"
      ]
     },
     "execution_count": 4,
     "metadata": {},
     "output_type": "execute_result"
    }
   ],
   "source": [
    "loan['Loan_Amount_Term'].unique()"
   ]
  },
  {
   "cell_type": "code",
   "execution_count": 5,
   "metadata": {},
   "outputs": [
    {
     "data": {
      "text/plain": [
       "array([ 1.,  0., nan])"
      ]
     },
     "execution_count": 5,
     "metadata": {},
     "output_type": "execute_result"
    }
   ],
   "source": [
    "loan['Credit_History'].unique()"
   ]
  },
  {
   "cell_type": "code",
   "execution_count": 8,
   "metadata": {},
   "outputs": [
    {
     "data": {
      "text/plain": [
       "<seaborn.axisgrid.FacetGrid at 0x1a0b69a7ba8>"
      ]
     },
     "execution_count": 8,
     "metadata": {},
     "output_type": "execute_result"
    },
    {
     "data": {
      "image/png": "[encoded data removed]",
      "text/plain": [
       "<Figure size 360x360 with 1 Axes>"
      ]
     },
     "metadata": {
      "needs_background": "light"
     },
     "output_type": "display_data"
    }
   ],
   "source": [
    "sns.relplot(x = 'ApplicantIncome', y = 'LoanAmount', data = loan)"
   ]
  },
  {
   "cell_type": "code",
   "execution_count": 9,
   "metadata": {},
   "outputs": [
    {
     "data": {
      "text/plain": [
       "<matplotlib.collections.PathCollection at 0x1a0b6a814e0>"
      ]
     },
     "execution_count": 9,
     "metadata": {},
     "output_type": "execute_result"
    },
    {
     "data": {
      "image/png": "[encoded data removed]",
      "text/plain": [
       "<Figure size 432x288 with 1 Axes>"
      ]
     },
     "metadata": {
      "needs_background": "light"
     },
     "output_type": "display_data"
    }
   ],
   "source": [
    "plt.scatter(x = 'ApplicantIncome', y = 'LoanAmount', data = loan)"
   ]
  },
  {
   "cell_type": "code",
   "execution_count": 10,
   "metadata": {},
   "outputs": [
    {
     "name": "stderr",
     "output_type": "stream",
     "text": [
      "C:\\Users\\alice\\Anaconda3\\lib\\site-packages\\numpy\\lib\\histograms.py:824: RuntimeWarning:\n",
      "\n",
      "invalid value encountered in greater_equal\n",
      "\n",
      "C:\\Users\\alice\\Anaconda3\\lib\\site-packages\\numpy\\lib\\histograms.py:825: RuntimeWarning:\n",
      "\n",
      "invalid value encountered in less_equal\n",
      "\n"
     ]
    },
    {
     "data": {
      "text/plain": [
       "<seaborn.axisgrid.PairGrid at 0x1a0b6aa5ba8>"
      ]
     },
     "execution_count": 10,
     "metadata": {},
     "output_type": "execute_result"
    },
    {
     "data": {
      "image/png": "[encoded data removed]",
      "text/plain": [
       "<Figure size 900x900 with 30 Axes>"
      ]
     },
     "metadata": {
      "needs_background": "light"
     },
     "output_type": "display_data"
    }
   ],
   "source": [
    "sns.pairplot(loan)"
   ]
  },
  {
   "cell_type": "code",
   "execution_count": 17,
   "metadata": {},
   "outputs": [
    {
     "data": {
      "image/png": "[encoded data removed]",
      "text/plain": [
       "<Figure size 1440x432 with 1 Axes>"
      ]
     },
     "metadata": {
      "needs_background": "light"
     },
     "output_type": "display_data"
    }
   ],
   "source": [
    "fig = plt.figure(figsize=(20, 6))\n",
    "fig = plt.scatter(x = 'ApplicantIncome', y = 'LoanAmount', data = loan)\n",
    "plt.show(fig)"
   ]
  },
  {
   "cell_type": "code",
   "execution_count": 23,
   "metadata": {},
   "outputs": [
    {
     "data": {
      "text/plain": [
       "<seaborn.axisgrid.FacetGrid at 0x1a0b7dde5c0>"
      ]
     },
     "execution_count": 23,
     "metadata": {},
     "output_type": "execute_result"
    },
    {
     "data": {
      "image/png": "[encoded data removed]",
      "text/plain": [
       "<Figure size 773.359x360 with 2 Axes>"
      ]
     },
     "metadata": {
      "needs_background": "light"
     },
     "output_type": "display_data"
    }
   ],
   "source": [
    "sns.catplot(x = 'Gender', y = 'LoanAmount', hue = 'Married', col = 'Loan_Status', data = loan)"
   ]
  },
  {
   "cell_type": "code",
   "execution_count": 24,
   "metadata": {},
   "outputs": [
    {
     "data": {
      "text/plain": [
       "<seaborn.axisgrid.FacetGrid at 0x1a0b8109240>"
      ]
     },
     "execution_count": 24,
     "metadata": {},
     "output_type": "execute_result"
    },
    {
     "data": {
      "image/png": "[encoded data removed]",
      "text/plain": [
       "<Figure size 1133.36x360 with 3 Axes>"
      ]
     },
     "metadata": {
      "needs_background": "light"
     },
     "output_type": "display_data"
    }
   ],
   "source": [
    "sns.catplot(x = 'Gender', y = 'LoanAmount', hue = 'Married', col = 'Property_Area', data = loan)"
   ]
  },
  {
   "cell_type": "code",
   "execution_count": 25,
   "metadata": {},
   "outputs": [
    {
     "data": {
      "text/plain": [
       "<seaborn.axisgrid.FacetGrid at 0x1a0b83c08d0>"
      ]
     },
     "execution_count": 25,
     "metadata": {},
     "output_type": "execute_result"
    },
    {
     "data": {
      "image/png": "[encoded data removed]",
      "text/plain": [
       "<Figure size 773.359x360 with 2 Axes>"
      ]
     },
     "metadata": {
      "needs_background": "light"
     },
     "output_type": "display_data"
    }
   ],
   "source": [
    "sns.catplot(x = 'Gender', y = 'LoanAmount', hue = 'Married', col = 'Self_Employed', data = loan)"
   ]
  },
  {
   "cell_type": "code",
   "execution_count": 31,
   "metadata": {},
   "outputs": [
    {
     "data": {
      "text/plain": [
       "<seaborn.axisgrid.FacetGrid at 0x1a0b873d2e8>"
      ]
     },
     "execution_count": 31,
     "metadata": {},
     "output_type": "execute_result"
    },
    {
     "data": {
      "image/png": "[encoded data removed]",
      "text/plain": [
       "<Figure size 459.125x360 with 1 Axes>"
      ]
     },
     "metadata": {
      "needs_background": "light"
     },
     "output_type": "display_data"
    }
   ],
   "source": [
    "sns.relplot(x = \"ApplicantIncome\", y = \"LoanAmount\", data=loan, size=\"LoanAmount\")"
   ]
  },
  {
   "cell_type": "code",
   "execution_count": 61,
   "metadata": {},
   "outputs": [
    {
     "data": {
      "application/vnd.plotly.v1+json": {
       "config": {
        "plotlyServerURL": "https://plot.ly"
       },
       "data": [
        {
         "hoverlabel": {
          "namelength": 0
         },
         "hovertemplate": "Gender=Male<br>ApplicantIncome=%{x}<br>Loan_Amount_Term=%{y}<br>LoanAmount=%{marker.size}",
         "legendgroup": "Gender=Male",
         "marker": {
          "color": "#636efa",
          "size": [
           128,
           66,
           120,
           141,
           267,
           95,
           158,
           168,
           349,
           70,
           109,
           200,
           114,
           17,
           125,
           100,
           133,
           104,
           315,
           116,
           151,
           191,
           122,
           110,
           35,
           201,
           74,
           106,
           114,
           320,
           184,
           110,
           80,
           47,
           75,
           134,
           44,
           144,
           134,
           97,
           96,
           135,
           180,
           144,
           120,
           99,
           165,
           258,
           126,
           312,
           125,
           172,
           97,
           81,
           187,
           113,
           176,
           110,
           180,
           130,
           265,
           50,
           136,
           99,
           104,
           210,
           175,
           131,
           188,
           81,
           122,
           25,
           50,
           115,
           131,
           133,
           151,
           160,
           100,
           225,
           120,
           216,
           94,
           136,
           118,
           185,
           85,
           175,
           180,
           81,
           194,
           160,
           182,
           650,
           74,
           70,
           25,
           102,
           290,
           88,
           242,
           129,
           185,
           168,
           175,
           122,
           187,
           30,
           125,
           118,
           152,
           244,
           113,
           50,
           600,
           160,
           187,
           120,
           255,
           98,
           275,
           121,
           158,
           75,
           129,
           63,
           200,
           95,
           81,
           187,
           87,
           116,
           101,
           495,
           116,
           102,
           180,
           67,
           73,
           260,
           120,
           66,
           58,
           188,
           48,
           164,
           160,
           76,
           120,
           170,
           187,
           83,
           90,
           166,
           135,
           124,
           55,
           59,
           127,
           128,
           240,
           130,
           137,
           100,
           135,
           131,
           72,
           60,
           116,
           144,
           128,
           170,
           138,
           210,
           158,
           200,
           104,
           42,
           140,
           170,
           255,
           96,
           120,
           140,
           155,
           108,
           123,
           120,
           112,
           137,
           123,
           90,
           201,
           104,
           279,
           192,
           115,
           94,
           304,
           128,
           330,
           134,
           128,
           151,
           150,
           160,
           136,
           126,
           150,
           90,
           115,
           207,
           80,
           436,
           158,
           112,
           78,
           89,
           120,
           187,
           139,
           127,
           134,
           172,
           110,
           200,
           113,
           93,
           105,
           96,
           140,
           480,
           185,
           111,
           144,
           111,
           120,
           88,
           155,
           115,
           124,
           300,
           376,
           130,
           184,
           117,
           98,
           71,
           490,
           160,
           176,
           173,
           158,
           74,
           125,
           160,
           152,
           126,
           259,
           187,
           228,
           308,
           95,
           165,
           67,
           100,
           200,
           236,
           130,
           95,
           141,
           133,
           96,
           175,
           570,
           155,
           380,
           111,
           120,
           130,
           130,
           71,
           130,
           128,
           296,
           128,
           100,
           113,
           132,
           136,
           125,
           185,
           275,
           120,
           113,
           113,
           135,
           95,
           109,
           45,
           65,
           103,
           115,
           152,
           360,
           160,
           218,
           110,
           239,
           112,
           138,
           138,
           100,
           96,
           121,
           133,
           87,
           60,
           105,
           405,
           143,
           100,
           50,
           187,
           187,
           180,
           148,
           152,
           175,
           130,
           110,
           55,
           150,
           190,
           125,
           60,
           149,
           90,
           84,
           96,
           118,
           173,
           136,
           160,
           128,
           153,
           98,
           140,
           70,
           110,
           162,
           113,
           100,
           162,
           150,
           230,
           86,
           113,
           128,
           234,
           246,
           131,
           80,
           500,
           160,
           75,
           96,
           186,
           110,
           119,
           107,
           111,
           95,
           209,
           208,
           138,
           124,
           243,
           480,
           188,
           100,
           250,
           148,
           70,
           311,
           150,
           123,
           185,
           45,
           55,
           100,
           480,
           400,
           110,
           161,
           94,
           130,
           216,
           100,
           110,
           196,
           126,
           324,
           107,
           66,
           157,
           128,
           155,
           80,
           145,
           110,
           158,
           181,
           132,
           26,
           260,
           162,
           108,
           211,
           132,
           258,
           120,
           70,
           123,
           104,
           186,
           165,
           275,
           187,
           150,
           108,
           110,
           107,
           161,
           205,
           90,
           61,
           146,
           172,
           104,
           106,
           56,
           205,
           142,
           260,
           110,
           187,
           88,
           180,
           192,
           155,
           128,
           172,
           173,
           157,
           108,
           40,
           253,
           187
          ],
          "sizemode": "area",
          "sizeref": 1.625,
          "symbol": "circle"
         },
         "mode": "markers",
         "name": "Gender=Male",
         "showlegend": true,
         "type": "scatter",
         "x": [
          4583,
          3000,
          2583,
          6000,
          5417,
          2333,
          3036,
          4006,
          12841,
          3200,
          2500,
          3073,
          1853,
          1299,
          4950,
          3596,
          4887,
          7660,
          5955,
          2600,
          3717,
          9560,
          2799,
          4226,
          1442,
          4166,
          3167,
          4692,
          3500,
          12500,
          4166,
          3748,
          3600,
          1800,
          2400,
          3941,
          5649,
          5821,
          4616,
          2708,
          2132,
          3366,
          8080,
          3357,
          2500,
          3029,
          2609,
          5726,
          3200,
          10750,
          7100,
          3208,
          1875,
          3500,
          5266,
          3750,
          3750,
          1000,
          3167,
          3333,
          6000,
          3988,
          2366,
          3333,
          2500,
          8566,
          5695,
          2958,
          6250,
          3273,
          4133,
          3620,
          1977,
          4188,
          1759,
          4288,
          4843,
          3816,
          3052,
          11417,
          7333,
          3800,
          2071,
          5316,
          5050,
          14583,
          2214,
          5568,
          5667,
          2957,
          4300,
          10513,
          6080,
          20166,
          2014,
          2718,
          3459,
          4895,
          4000,
          3316,
          14999,
          4200,
          5042,
          5417,
          6950,
          2698,
          11757,
          1538,
          4860,
          6277,
          2577,
          9166,
          2281,
          3254,
          39999,
          6000,
          9538,
          2980,
          4583,
          1863,
          7933,
          3089,
          4167,
          9323,
          2439,
          2237,
          8000,
          1820,
          3522,
          5708,
          4344,
          3497,
          2045,
          5516,
          3750,
          2333,
          6400,
          1916,
          4600,
          33846,
          39147,
          2178,
          2383,
          9328,
          4885,
          12000,
          6033,
          3858,
          4191,
          3125,
          8333,
          11000,
          2600,
          4923,
          3500,
          3917,
          3975,
          2479,
          3418,
          3430,
          7787,
          5703,
          3173,
          3850,
          150,
          3727,
          5000,
          2221,
          4009,
          2971,
          6250,
          3250,
          4735,
          6250,
          4758,
          6400,
          2491,
          3716,
          3155,
          5500,
          5746,
          3315,
          5819,
          2510,
          2965,
          6250,
          3406,
          6050,
          9703,
          6608,
          2882,
          1809,
          1668,
          2583,
          2661,
          16250,
          6045,
          5250,
          14683,
          4931,
          6083,
          2060,
          5166,
          4095,
          4708,
          4333,
          11146,
          2833,
          2620,
          3900,
          2750,
          3993,
          3103,
          14583,
          4053,
          3927,
          2301,
          3158,
          3704,
          9508,
          3075,
          4400,
          3153,
          2383,
          4416,
          6875,
          2014,
          1800,
          2875,
          1625,
          4000,
          20233,
          7667,
          2927,
          5746,
          3399,
          3717,
          2058,
          10000,
          2400,
          4342,
          15000,
          8666,
          4917,
          5818,
          4384,
          2935,
          2833,
          63337,
          5250,
          2500,
          2647,
          4554,
          3173,
          2583,
          2499,
          3523,
          3083,
          6333,
          2625,
          9083,
          8750,
          2666,
          8333,
          3875,
          3000,
          5167,
          5000,
          4750,
          3013,
          6822,
          6216,
          2500,
          6325,
          19730,
          5185,
          9323,
          3062,
          4817,
          8750,
          4310,
          3069,
          5391,
          3333,
          5941,
          7167,
          4566,
          3667,
          2346,
          2333,
          5488,
          9167,
          9504,
          2583,
          1993,
          3100,
          3276,
          3033,
          3902,
          2889,
          2755,
          2500,
          2167,
          8300,
          81000,
          6256,
          6096,
          2253,
          1600,
          1025,
          3246,
          5829,
          1820,
          14880,
          2666,
          5935,
          2920,
          2717,
          6500,
          12876,
          2425,
          3750,
          1926,
          10416,
          3660,
          7901,
          4707,
          37719,
          7333,
          3466,
          4652,
          3539,
          3340,
          2769,
          2309,
          1958,
          3948,
          2483,
          7085,
          3859,
          4301,
          3708,
          4354,
          8334,
          7740,
          3015,
          4166,
          6000,
          2947,
          4333,
          3450,
          2653,
          4691,
          5532,
          16525,
          6700,
          16667,
          3095,
          2083,
          10833,
          8333,
          1958,
          3547,
          18333,
          4583,
          2435,
          2699,
          5333,
          3691,
          3597,
          2600,
          4625,
          2895,
          6283,
          4865,
          4050,
          3814,
          3510,
          20833,
          2479,
          3598,
          6065,
          3283,
          2130,
          5815,
          3466,
          3074,
          4683,
          2192,
          2500,
          5677,
          7948,
          17500,
          3775,
          5285,
          2679,
          6783,
          1025,
          4281,
          3588,
          11250,
          2550,
          6133,
          3617,
          2917,
          6417,
          2239,
          2768,
          3358,
          2526,
          2785,
          3333,
          2454,
          3593,
          5468,
          10139,
          3887,
          3675,
          5923,
          5800,
          8799,
          4467,
          3333,
          3400,
          3166,
          3417,
          5116,
          16666,
          6125,
          6406,
          3159,
          3229,
          1782,
          3182,
          6540,
          1836,
          1880,
          2787,
          4283,
          2297,
          2726,
          3000,
          6000,
          3859,
          16120,
          3833,
          6383,
          2987,
          9963,
          5780,
          2894,
          5703,
          3676,
          3400,
          3987,
          3232,
          4106,
          8072,
          7583
         ],
         "xaxis": "x",
         "y": [
          360,
          360,
          360,
          360,
          360,
          360,
          360,
          360,
          360,
          360,
          360,
          360,
          360,
          120,
          360,
          240,
          360,
          360,
          360,
          360,
          360,
          360,
          360,
          360,
          360,
          360,
          360,
          360,
          360,
          360,
          360,
          360,
          360,
          360,
          360,
          360,
          360,
          360,
          360,
          360,
          360,
          360,
          360,
          360,
          360,
          360,
          180,
          360,
          180,
          360,
          60,
          360,
          360,
          300,
          360,
          480,
          360,
          360,
          300,
          360,
          360,
          240,
          360,
          360,
          360,
          360,
          360,
          360,
          180,
          360,
          360,
          120,
          360,
          180,
          360,
          180,
          360,
          360,
          360,
          360,
          360,
          360,
          480,
          360,
          360,
          180,
          360,
          360,
          360,
          360,
          360,
          180,
          360,
          480,
          360,
          360,
          120,
          360,
          360,
          360,
          360,
          360,
          360,
          360,
          180,
          360,
          180,
          360,
          360,
          360,
          360,
          360,
          360,
          360,
          180,
          360,
          360,
          360,
          360,
          360,
          360,
          360,
          360,
          180,
          360,
          480,
          360,
          360,
          180,
          360,
          360,
          360,
          360,
          360,
          360,
          480,
          360,
          360,
          180,
          360,
          360,
          300,
          360,
          180,
          360,
          360,
          360,
          360,
          360,
          360,
          360,
          360,
          360,
          360,
          360,
          360,
          360,
          360,
          360,
          360,
          360,
          360,
          360,
          360,
          360,
          360,
          360,
          360,
          360,
          360,
          360,
          360,
          360,
          360,
          480,
          360,
          360,
          180,
          360,
          360,
          360,
          360,
          360,
          180,
          60,
          360,
          360,
          180,
          360,
          180,
          480,
          360,
          360,
          360,
          180,
          360,
          360,
          360,
          360,
          360,
          360,
          360,
          360,
          360,
          360,
          360,
          360,
          360,
          360,
          360,
          360,
          360,
          360,
          360,
          360,
          360,
          180,
          360,
          360,
          360,
          360,
          360,
          360,
          360,
          360,
          360,
          360,
          360,
          360,
          360,
          360,
          360,
          360,
          360,
          84,
          180,
          360,
          360,
          360,
          360,
          360,
          360,
          360,
          360,
          360,
          360,
          360,
          360,
          180,
          360,
          360,
          360,
          360,
          360,
          360,
          360,
          360,
          360,
          360,
          360,
          360,
          360,
          360,
          360,
          360,
          480,
          360,
          360,
          360,
          300,
          360,
          360,
          480,
          360,
          360,
          360,
          300,
          180,
          180,
          360,
          360,
          480,
          360,
          360,
          360,
          360,
          360,
          180,
          360,
          360,
          360,
          360,
          360,
          360,
          180,
          360,
          360,
          360,
          360,
          180,
          300,
          360,
          360,
          300,
          360,
          360,
          360,
          360,
          360,
          360,
          360,
          360,
          360,
          360,
          360,
          360,
          360,
          180,
          360,
          360,
          360,
          360,
          360,
          360,
          360,
          360,
          360,
          360,
          300,
          360,
          360,
          360,
          360,
          360,
          360,
          300,
          360,
          180,
          360,
          360,
          360,
          360,
          360,
          360,
          180,
          360,
          360,
          360,
          180,
          360,
          360,
          180,
          360,
          360,
          360,
          300,
          360,
          360,
          360,
          360,
          360,
          360,
          360,
          360,
          360,
          360,
          360,
          360,
          360,
          360,
          360,
          12,
          360,
          360,
          360,
          360,
          300,
          360,
          360,
          360,
          360,
          360,
          360,
          180,
          360,
          360,
          360,
          360,
          360,
          360,
          360,
          360,
          360,
          360,
          360,
          360,
          360,
          360,
          360,
          360,
          360,
          360,
          360,
          360,
          360,
          180,
          360,
          360,
          36,
          360,
          360,
          360,
          360,
          180,
          360,
          360,
          360,
          360,
          360,
          360,
          360,
          360,
          360,
          360,
          360,
          360,
          360,
          360,
          480,
          360,
          84,
          360,
          360,
          360,
          360,
          360,
          360,
          360,
          84,
          360,
          360,
          180,
          240,
          180,
          360,
          360,
          360,
          360,
          360,
          360,
          360,
          360,
          360,
          360,
          360,
          360,
          180,
          360,
          360
         ],
         "yaxis": "y"
        },
        {
         "hoverlabel": {
          "namelength": 0
         },
         "hovertemplate": "Gender=Female<br>ApplicantIncome=%{x}<br>Loan_Amount_Term=%{y}<br>LoanAmount=%{marker.size}",
         "legendgroup": "Gender=Female",
         "marker": {
          "color": "#EF553B",
          "size": [
           76,
           120,
           144,
           120,
           144,
           100,
           120,
           112,
           286,
           116,
           136,
           111,
           167,
           137,
           139,
           154,
           259,
           44,
           137,
           93,
           84,
           100,
           70,
           225,
           112,
           108,
           113,
           120,
           80,
           214,
           127,
           280,
           122,
           112,
           138,
           255,
           155,
           120,
           135,
           90,
           30,
           124,
           54,
           99,
           115,
           143,
           135,
           151,
           132,
           135,
           104,
           84,
           56,
           112,
           132,
           110,
           67,
           71,
           46,
           105,
           130,
           116,
           81,
           55,
           110,
           156,
           71,
           103,
           53,
           194,
           115,
           66,
           62,
           178,
           60,
           160,
           81,
           150,
           138,
           132,
           98,
           93,
           154,
           225,
           105,
           113,
           100,
           40,
           113,
           95,
           125,
           140,
           99,
           95,
           102,
           103,
           84,
           182,
           600,
           9,
           36,
           70,
           350,
           496,
           71,
           133
          ],
          "sizemode": "area",
          "sizeref": 1.625,
          "symbol": "circle"
         },
         "mode": "markers",
         "name": "Gender=Female",
         "showlegend": true,
         "type": "scatter",
         "x": [
          3510,
          3750,
          3667,
          2645,
          4000,
          1928,
          3086,
          4230,
          11500,
          4166,
          4300,
          3846,
          1378,
          2484,
          2929,
          3167,
          10408,
          4166,
          2137,
          3692,
          4583,
          2330,
          14866,
          10000,
          4583,
          3625,
          3416,
          4408,
          3244,
          10000,
          4283,
          8333,
          3463,
          3812,
          3427,
          3083,
          3481,
          7200,
          3418,
          2876,
          3237,
          4100,
          1811,
          2600,
          4124,
          5417,
          4666,
          5000,
          5000,
          3762,
          2400,
          2917,
          2507,
          3541,
          3166,
          4333,
          2500,
          4160,
          2378,
          5500,
          2423,
          3813,
          4723,
          15759,
          2764,
          6000,
          3180,
          1500,
          1963,
          7441,
          4547,
          2213,
          3867,
          2149,
          2995,
          2600,
          4606,
          8624,
          7142,
          5191,
          210,
          2500,
          4350,
          17263,
          3326,
          645,
          3159,
          13262,
          2031,
          3400,
          18165,
          4608,
          2138,
          3652,
          3017,
          5000,
          2667,
          4180,
          19484,
          2378,
          3166,
          2165,
          416,
          12000,
          2900,
          4583
         ],
         "xaxis": "x",
         "y": [
          360,
          360,
          360,
          360,
          360,
          360,
          360,
          360,
          360,
          360,
          360,
          360,
          360,
          360,
          360,
          360,
          360,
          360,
          360,
          360,
          360,
          360,
          360,
          360,
          360,
          360,
          360,
          360,
          360,
          360,
          360,
          360,
          360,
          360,
          360,
          360,
          36,
          360,
          360,
          360,
          360,
          360,
          360,
          300,
          360,
          480,
          360,
          480,
          360,
          360,
          360,
          360,
          360,
          360,
          360,
          360,
          360,
          360,
          360,
          360,
          360,
          180,
          360,
          360,
          360,
          360,
          360,
          360,
          360,
          360,
          360,
          360,
          360,
          360,
          360,
          360,
          360,
          360,
          360,
          360,
          360,
          360,
          360,
          360,
          84,
          480,
          360,
          360,
          480,
          360,
          360,
          180,
          360,
          360,
          360,
          360,
          360,
          360,
          360,
          360,
          360,
          360,
          180,
          360,
          360,
          360
         ],
         "yaxis": "y"
        }
       ],
       "layout": {
        "height": 600,
        "legend": {
         "itemsizing": "constant",
         "tracegroupgap": 0
        },
        "margin": {
         "t": 60
        },
        "template": {
         "data": {
          "bar": [
           {
            "error_x": {
             "color": "#2a3f5f"
            },
            "error_y": {
             "color": "#2a3f5f"
            },
            "marker": {
             "line": {
              "color": "#E5ECF6",
              "width": 0.5
             }
            },
            "type": "bar"
           }
          ],
          "barpolar": [
           {
            "marker": {
             "line": {
              "color": "#E5ECF6",
              "width": 0.5
             }
            },
            "type": "barpolar"
           }
          ],
          "carpet": [
           {
            "aaxis": {
             "endlinecolor": "#2a3f5f",
             "gridcolor": "white",
             "linecolor": "white",
             "minorgridcolor": "white",
             "startlinecolor": "#2a3f5f"
            },
            "baxis": {
             "endlinecolor": "#2a3f5f",
             "gridcolor": "white",
             "linecolor": "white",
             "minorgridcolor": "white",
             "startlinecolor": "#2a3f5f"
            },
            "type": "carpet"
           }
          ],
          "choropleth": [
           {
            "colorbar": {
             "outlinewidth": 0,
             "ticks": ""
            },
            "type": "choropleth"
           }
          ],
          "contour": [
           {
            "colorbar": {
             "outlinewidth": 0,
             "ticks": ""
            },
            "colorscale": [
             [
              0,
              "#0d0887"
             ],
             [
              0.1111111111111111,
              "#46039f"
             ],
             [
              0.2222222222222222,
              "#7201a8"
             ],
             [
              0.3333333333333333,
              "#9c179e"
             ],
             [
              0.4444444444444444,
              "#bd3786"
             ],
             [
              0.5555555555555556,
              "#d8576b"
             ],
             [
              0.6666666666666666,
              "#ed7953"
             ],
             [
              0.7777777777777778,
              "#fb9f3a"
             ],
             [
              0.8888888888888888,
              "#fdca26"
             ],
             [
              1,
              "#f0f921"
             ]
            ],
            "type": "contour"
           }
          ],
          "contourcarpet": [
           {
            "colorbar": {
             "outlinewidth": 0,
             "ticks": ""
            },
            "type": "contourcarpet"
           }
          ],
          "heatmap": [
           {
            "colorbar": {
             "outlinewidth": 0,
             "ticks": ""
            },
            "colorscale": [
             [
              0,
              "#0d0887"
             ],
             [
              0.1111111111111111,
              "#46039f"
             ],
             [
              0.2222222222222222,
              "#7201a8"
             ],
             [
              0.3333333333333333,
              "#9c179e"
             ],
             [
              0.4444444444444444,
              "#bd3786"
             ],
             [
              0.5555555555555556,
              "#d8576b"
             ],
             [
              0.6666666666666666,
              "#ed7953"
             ],
             [
              0.7777777777777778,
              "#fb9f3a"
             ],
             [
              0.8888888888888888,
              "#fdca26"
             ],
             [
              1,
              "#f0f921"
             ]
            ],
            "type": "heatmap"
           }
          ],
          "heatmapgl": [
           {
            "colorbar": {
             "outlinewidth": 0,
             "ticks": ""
            },
            "colorscale": [
             [
              0,
              "#0d0887"
             ],
             [
              0.1111111111111111,
              "#46039f"
             ],
             [
              0.2222222222222222,
              "#7201a8"
             ],
             [
              0.3333333333333333,
              "#9c179e"
             ],
             [
              0.4444444444444444,
              "#bd3786"
             ],
             [
              0.5555555555555556,
              "#d8576b"
             ],
             [
              0.6666666666666666,
              "#ed7953"
             ],
             [
              0.7777777777777778,
              "#fb9f3a"
             ],
             [
              0.8888888888888888,
              "#fdca26"
             ],
             [
              1,
              "#f0f921"
             ]
            ],
            "type": "heatmapgl"
           }
          ],
          "histogram": [
           {
            "marker": {
             "colorbar": {
              "outlinewidth": 0,
              "ticks": ""
             }
            },
            "type": "histogram"
           }
          ],
          "histogram2d": [
           {
            "colorbar": {
             "outlinewidth": 0,
             "ticks": ""
            },
            "colorscale": [
             [
              0,
              "#0d0887"
             ],
             [
              0.1111111111111111,
              "#46039f"
             ],
             [
              0.2222222222222222,
              "#7201a8"
             ],
             [
              0.3333333333333333,
              "#9c179e"
             ],
             [
              0.4444444444444444,
              "#bd3786"
             ],
             [
              0.5555555555555556,
              "#d8576b"
             ],
             [
              0.6666666666666666,
              "#ed7953"
             ],
             [
              0.7777777777777778,
              "#fb9f3a"
             ],
             [
              0.8888888888888888,
              "#fdca26"
             ],
             [
              1,
              "#f0f921"
             ]
            ],
            "type": "histogram2d"
           }
          ],
          "histogram2dcontour": [
           {
            "colorbar": {
             "outlinewidth": 0,
             "ticks": ""
            },
            "colorscale": [
             [
              0,
              "#0d0887"
             ],
             [
              0.1111111111111111,
              "#46039f"
             ],
             [
              0.2222222222222222,
              "#7201a8"
             ],
             [
              0.3333333333333333,
              "#9c179e"
             ],
             [
              0.4444444444444444,
              "#bd3786"
             ],
             [
              0.5555555555555556,
              "#d8576b"
             ],
             [
              0.6666666666666666,
              "#ed7953"
             ],
             [
              0.7777777777777778,
              "#fb9f3a"
             ],
             [
              0.8888888888888888,
              "#fdca26"
             ],
             [
              1,
              "#f0f921"
             ]
            ],
            "type": "histogram2dcontour"
           }
          ],
          "mesh3d": [
           {
            "colorbar": {
             "outlinewidth": 0,
             "ticks": ""
            },
            "type": "mesh3d"
           }
          ],
          "parcoords": [
           {
            "line": {
             "colorbar": {
              "outlinewidth": 0,
              "ticks": ""
             }
            },
            "type": "parcoords"
           }
          ],
          "scatter": [
           {
            "marker": {
             "colorbar": {
              "outlinewidth": 0,
              "ticks": ""
             }
            },
            "type": "scatter"
           }
          ],
          "scatter3d": [
           {
            "line": {
             "colorbar": {
              "outlinewidth": 0,
              "ticks": ""
             }
            },
            "marker": {
             "colorbar": {
              "outlinewidth": 0,
              "ticks": ""
             }
            },
            "type": "scatter3d"
           }
          ],
          "scattercarpet": [
           {
            "marker": {
             "colorbar": {
              "outlinewidth": 0,
              "ticks": ""
             }
            },
            "type": "scattercarpet"
           }
          ],
          "scattergeo": [
           {
            "marker": {
             "colorbar": {
              "outlinewidth": 0,
              "ticks": ""
             }
            },
            "type": "scattergeo"
           }
          ],
          "scattergl": [
           {
            "marker": {
             "colorbar": {
              "outlinewidth": 0,
              "ticks": ""
             }
            },
            "type": "scattergl"
           }
          ],
          "scattermapbox": [
           {
            "marker": {
             "colorbar": {
              "outlinewidth": 0,
              "ticks": ""
             }
            },
            "type": "scattermapbox"
           }
          ],
          "scatterpolar": [
           {
            "marker": {
             "colorbar": {
              "outlinewidth": 0,
              "ticks": ""
             }
            },
            "type": "scatterpolar"
           }
          ],
          "scatterpolargl": [
           {
            "marker": {
             "colorbar": {
              "outlinewidth": 0,
              "ticks": ""
             }
            },
            "type": "scatterpolargl"
           }
          ],
          "scatterternary": [
           {
            "marker": {
             "colorbar": {
              "outlinewidth": 0,
              "ticks": ""
             }
            },
            "type": "scatterternary"
           }
          ],
          "surface": [
           {
            "colorbar": {
             "outlinewidth": 0,
             "ticks": ""
            },
            "colorscale": [
             [
              0,
              "#0d0887"
             ],
             [
              0.1111111111111111,
              "#46039f"
             ],
             [
              0.2222222222222222,
              "#7201a8"
             ],
             [
              0.3333333333333333,
              "#9c179e"
             ],
             [
              0.4444444444444444,
              "#bd3786"
             ],
             [
              0.5555555555555556,
              "#d8576b"
             ],
             [
              0.6666666666666666,
              "#ed7953"
             ],
             [
              0.7777777777777778,
              "#fb9f3a"
             ],
             [
              0.8888888888888888,
              "#fdca26"
             ],
             [
              1,
              "#f0f921"
             ]
            ],
            "type": "surface"
           }
          ],
          "table": [
           {
            "cells": {
             "fill": {
              "color": "#EBF0F8"
             },
             "line": {
              "color": "white"
             }
            },
            "header": {
             "fill": {
              "color": "#C8D4E3"
             },
             "line": {
              "color": "white"
             }
            },
            "type": "table"
           }
          ]
         },
         "layout": {
          "annotationdefaults": {
           "arrowcolor": "#2a3f5f",
           "arrowhead": 0,
           "arrowwidth": 1
          },
          "colorscale": {
           "diverging": [
            [
             0,
             "#8e0152"
            ],
            [
             0.1,
             "#c51b7d"
            ],
            [
             0.2,
             "#de77ae"
            ],
            [
             0.3,
             "#f1b6da"
            ],
            [
             0.4,
             "#fde0ef"
            ],
            [
             0.5,
             "#f7f7f7"
            ],
            [
             0.6,
             "#e6f5d0"
            ],
            [
             0.7,
             "#b8e186"
            ],
            [
             0.8,
             "#7fbc41"
            ],
            [
             0.9,
             "#4d9221"
            ],
            [
             1,
             "#276419"
            ]
           ],
           "sequential": [
            [
             0,
             "#0d0887"
            ],
            [
             0.1111111111111111,
             "#46039f"
            ],
            [
             0.2222222222222222,
             "#7201a8"
            ],
            [
             0.3333333333333333,
             "#9c179e"
            ],
            [
             0.4444444444444444,
             "#bd3786"
            ],
            [
             0.5555555555555556,
             "#d8576b"
            ],
            [
             0.6666666666666666,
             "#ed7953"
            ],
            [
             0.7777777777777778,
             "#fb9f3a"
            ],
            [
             0.8888888888888888,
             "#fdca26"
            ],
            [
             1,
             "#f0f921"
            ]
           ],
           "sequentialminus": [
            [
             0,
             "#0d0887"
            ],
            [
             0.1111111111111111,
             "#46039f"
            ],
            [
             0.2222222222222222,
             "#7201a8"
            ],
            [
             0.3333333333333333,
             "#9c179e"
            ],
            [
             0.4444444444444444,
             "#bd3786"
            ],
            [
             0.5555555555555556,
             "#d8576b"
            ],
            [
             0.6666666666666666,
             "#ed7953"
            ],
            [
             0.7777777777777778,
             "#fb9f3a"
            ],
            [
             0.8888888888888888,
             "#fdca26"
            ],
            [
             1,
             "#f0f921"
            ]
           ]
          },
          "colorway": [
           "#636efa",
           "#EF553B",
           "#00cc96",
           "#ab63fa",
           "#FFA15A",
           "#19d3f3",
           "#FF6692",
           "#B6E880",
           "#FF97FF",
           "#FECB52"
          ],
          "font": {
           "color": "#2a3f5f"
          },
          "geo": {
           "bgcolor": "white",
           "lakecolor": "white",
           "landcolor": "#E5ECF6",
           "showlakes": true,
           "showland": true,
           "subunitcolor": "white"
          },
          "hoverlabel": {
           "align": "left"
          },
          "hovermode": "closest",
          "mapbox": {
           "style": "light"
          },
          "paper_bgcolor": "white",
          "plot_bgcolor": "#E5ECF6",
          "polar": {
           "angularaxis": {
            "gridcolor": "white",
            "linecolor": "white",
            "ticks": ""
           },
           "bgcolor": "#E5ECF6",
           "radialaxis": {
            "gridcolor": "white",
            "linecolor": "white",
            "ticks": ""
           }
          },
          "scene": {
           "xaxis": {
            "backgroundcolor": "#E5ECF6",
            "gridcolor": "white",
            "gridwidth": 2,
            "linecolor": "white",
            "showbackground": true,
            "ticks": "",
            "zerolinecolor": "white"
           },
           "yaxis": {
            "backgroundcolor": "#E5ECF6",
            "gridcolor": "white",
            "gridwidth": 2,
            "linecolor": "white",
            "showbackground": true,
            "ticks": "",
            "zerolinecolor": "white"
           },
           "zaxis": {
            "backgroundcolor": "#E5ECF6",
            "gridcolor": "white",
            "gridwidth": 2,
            "linecolor": "white",
            "showbackground": true,
            "ticks": "",
            "zerolinecolor": "white"
           }
          },
          "shapedefaults": {
           "line": {
            "color": "#2a3f5f"
           }
          },
          "ternary": {
           "aaxis": {
            "gridcolor": "white",
            "linecolor": "white",
            "ticks": ""
           },
           "baxis": {
            "gridcolor": "white",
            "linecolor": "white",
            "ticks": ""
           },
           "bgcolor": "#E5ECF6",
           "caxis": {
            "gridcolor": "white",
            "linecolor": "white",
            "ticks": ""
           }
          },
          "title": {
           "x": 0.05
          },
          "xaxis": {
           "automargin": true,
           "gridcolor": "white",
           "linecolor": "white",
           "ticks": "",
           "zerolinecolor": "white",
           "zerolinewidth": 2
          },
          "yaxis": {
           "automargin": true,
           "gridcolor": "white",
           "linecolor": "white",
           "ticks": "",
           "zerolinecolor": "white",
           "zerolinewidth": 2
          }
         }
        },
        "xaxis": {
         "anchor": "y",
         "domain": [
          0,
          0.98
         ],
         "title": {
          "text": "ApplicantIncome"
         }
        },
        "yaxis": {
         "anchor": "x",
         "domain": [
          0,
          1
         ],
         "title": {
          "text": "Loan_Amount_Term"
         }
        }
       }
      },
      "text/html": [
       "<div>\n",
       "        \n",
       "        \n",
       "            <div id=\"adeb8cba-c306-4017-ab65-b2de1c466042\" class=\"plotly-graph-div\" style=\"height:600px; width:100%;\"></div>\n",
       "            <script type=\"text/javascript\">\n",
       "                require([\"plotly\"], function(Plotly) {\n",
       "                    window.PLOTLYENV=window.PLOTLYENV || {};\n",
       "                    \n",
       "                if (document.getElementById(\"adeb8cba-c306-4017-ab65-b2de1c466042\")) {\n",
       "                    Plotly.newPlot(\n",
       "                        'adeb8cba-c306-4017-ab65-b2de1c466042',\n",
       "                        [{\"hoverlabel\": {\"namelength\": 0}, \"hovertemplate\": \"Gender=Male<br>ApplicantIncome=%{x}<br>Loan_Amount_Term=%{y}<br>LoanAmount=%{marker.size}\", \"legendgroup\": \"Gender=Male\", \"marker\": {\"color\": \"#636efa\", \"size\": [128.0, 66.0, 120.0, 141.0, 267.0, 95.0, 158.0, 168.0, 349.0, 70.0, 109.0, 200.0, 114.0, 17.0, 125.0, 100.0, 133.0, 104.0, 315.0, 116.0, 151.0, 191.0, 122.0, 110.0, 35.0, 201.0, 74.0, 106.0, 114.0, 320.0, 184.0, 110.0, 80.0, 47.0, 75.0, 134.0, 44.0, 144.0, 134.0, 97.0, 96.0, 135.0, 180.0, 144.0, 120.0, 99.0, 165.0, 258.0, 126.0, 312.0, 125.0, 172.0, 97.0, 81.0, 187.0, 113.0, 176.0, 110.0, 180.0, 130.0, 265.0, 50.0, 136.0, 99.0, 104.0, 210.0, 175.0, 131.0, 188.0, 81.0, 122.0, 25.0, 50.0, 115.0, 131.0, 133.0, 151.0, 160.0, 100.0, 225.0, 120.0, 216.0, 94.0, 136.0, 118.0, 185.0, 85.0, 175.0, 180.0, 81.0, 194.0, 160.0, 182.0, 650.0, 74.0, 70.0, 25.0, 102.0, 290.0, 88.0, 242.0, 129.0, 185.0, 168.0, 175.0, 122.0, 187.0, 30.0, 125.0, 118.0, 152.0, 244.0, 113.0, 50.0, 600.0, 160.0, 187.0, 120.0, 255.0, 98.0, 275.0, 121.0, 158.0, 75.0, 129.0, 63.0, 200.0, 95.0, 81.0, 187.0, 87.0, 116.0, 101.0, 495.0, 116.0, 102.0, 180.0, 67.0, 73.0, 260.0, 120.0, 66.0, 58.0, 188.0, 48.0, 164.0, 160.0, 76.0, 120.0, 170.0, 187.0, 83.0, 90.0, 166.0, 135.0, 124.0, 55.0, 59.0, 127.0, 128.0, 240.0, 130.0, 137.0, 100.0, 135.0, 131.0, 72.0, 60.0, 116.0, 144.0, 128.0, 170.0, 138.0, 210.0, 158.0, 200.0, 104.0, 42.0, 140.0, 170.0, 255.0, 96.0, 120.0, 140.0, 155.0, 108.0, 123.0, 120.0, 112.0, 137.0, 123.0, 90.0, 201.0, 104.0, 279.0, 192.0, 115.0, 94.0, 304.0, 128.0, 330.0, 134.0, 128.0, 151.0, 150.0, 160.0, 136.0, 126.0, 150.0, 90.0, 115.0, 207.0, 80.0, 436.0, 158.0, 112.0, 78.0, 89.0, 120.0, 187.0, 139.0, 127.0, 134.0, 172.0, 110.0, 200.0, 113.0, 93.0, 105.0, 96.0, 140.0, 480.0, 185.0, 111.0, 144.0, 111.0, 120.0, 88.0, 155.0, 115.0, 124.0, 300.0, 376.0, 130.0, 184.0, 117.0, 98.0, 71.0, 490.0, 160.0, 176.0, 173.0, 158.0, 74.0, 125.0, 160.0, 152.0, 126.0, 259.0, 187.0, 228.0, 308.0, 95.0, 165.0, 67.0, 100.0, 200.0, 236.0, 130.0, 95.0, 141.0, 133.0, 96.0, 175.0, 570.0, 155.0, 380.0, 111.0, 120.0, 130.0, 130.0, 71.0, 130.0, 128.0, 296.0, 128.0, 100.0, 113.0, 132.0, 136.0, 125.0, 185.0, 275.0, 120.0, 113.0, 113.0, 135.0, 95.0, 109.0, 45.0, 65.0, 103.0, 115.0, 152.0, 360.0, 160.0, 218.0, 110.0, 239.0, 112.0, 138.0, 138.0, 100.0, 96.0, 121.0, 133.0, 87.0, 60.0, 105.0, 405.0, 143.0, 100.0, 50.0, 187.0, 187.0, 180.0, 148.0, 152.0, 175.0, 130.0, 110.0, 55.0, 150.0, 190.0, 125.0, 60.0, 149.0, 90.0, 84.0, 96.0, 118.0, 173.0, 136.0, 160.0, 128.0, 153.0, 98.0, 140.0, 70.0, 110.0, 162.0, 113.0, 100.0, 162.0, 150.0, 230.0, 86.0, 113.0, 128.0, 234.0, 246.0, 131.0, 80.0, 500.0, 160.0, 75.0, 96.0, 186.0, 110.0, 119.0, 107.0, 111.0, 95.0, 209.0, 208.0, 138.0, 124.0, 243.0, 480.0, 188.0, 100.0, 250.0, 148.0, 70.0, 311.0, 150.0, 123.0, 185.0, 45.0, 55.0, 100.0, 480.0, 400.0, 110.0, 161.0, 94.0, 130.0, 216.0, 100.0, 110.0, 196.0, 126.0, 324.0, 107.0, 66.0, 157.0, 128.0, 155.0, 80.0, 145.0, 110.0, 158.0, 181.0, 132.0, 26.0, 260.0, 162.0, 108.0, 211.0, 132.0, 258.0, 120.0, 70.0, 123.0, 104.0, 186.0, 165.0, 275.0, 187.0, 150.0, 108.0, 110.0, 107.0, 161.0, 205.0, 90.0, 61.0, 146.0, 172.0, 104.0, 106.0, 56.0, 205.0, 142.0, 260.0, 110.0, 187.0, 88.0, 180.0, 192.0, 155.0, 128.0, 172.0, 173.0, 157.0, 108.0, 40.0, 253.0, 187.0], \"sizemode\": \"area\", \"sizeref\": 1.625, \"symbol\": \"circle\"}, \"mode\": \"markers\", \"name\": \"Gender=Male\", \"showlegend\": true, \"type\": \"scatter\", \"x\": [4583, 3000, 2583, 6000, 5417, 2333, 3036, 4006, 12841, 3200, 2500, 3073, 1853, 1299, 4950, 3596, 4887, 7660, 5955, 2600, 3717, 9560, 2799, 4226, 1442, 4166, 3167, 4692, 3500, 12500, 4166, 3748, 3600, 1800, 2400, 3941, 5649, 5821, 4616, 2708, 2132, 3366, 8080, 3357, 2500, 3029, 2609, 5726, 3200, 10750, 7100, 3208, 1875, 3500, 5266, 3750, 3750, 1000, 3167, 3333, 6000, 3988, 2366, 3333, 2500, 8566, 5695, 2958, 6250, 3273, 4133, 3620, 1977, 4188, 1759, 4288, 4843, 3816, 3052, 11417, 7333, 3800, 2071, 5316, 5050, 14583, 2214, 5568, 5667, 2957, 4300, 10513, 6080, 20166, 2014, 2718, 3459, 4895, 4000, 3316, 14999, 4200, 5042, 5417, 6950, 2698, 11757, 1538, 4860, 6277, 2577, 9166, 2281, 3254, 39999, 6000, 9538, 2980, 4583, 1863, 7933, 3089, 4167, 9323, 2439, 2237, 8000, 1820, 3522, 5708, 4344, 3497, 2045, 5516, 3750, 2333, 6400, 1916, 4600, 33846, 39147, 2178, 2383, 9328, 4885, 12000, 6033, 3858, 4191, 3125, 8333, 11000, 2600, 4923, 3500, 3917, 3975, 2479, 3418, 3430, 7787, 5703, 3173, 3850, 150, 3727, 5000, 2221, 4009, 2971, 6250, 3250, 4735, 6250, 4758, 6400, 2491, 3716, 3155, 5500, 5746, 3315, 5819, 2510, 2965, 6250, 3406, 6050, 9703, 6608, 2882, 1809, 1668, 2583, 2661, 16250, 6045, 5250, 14683, 4931, 6083, 2060, 5166, 4095, 4708, 4333, 11146, 2833, 2620, 3900, 2750, 3993, 3103, 14583, 4053, 3927, 2301, 3158, 3704, 9508, 3075, 4400, 3153, 2383, 4416, 6875, 2014, 1800, 2875, 1625, 4000, 20233, 7667, 2927, 5746, 3399, 3717, 2058, 10000, 2400, 4342, 15000, 8666, 4917, 5818, 4384, 2935, 2833, 63337, 5250, 2500, 2647, 4554, 3173, 2583, 2499, 3523, 3083, 6333, 2625, 9083, 8750, 2666, 8333, 3875, 3000, 5167, 5000, 4750, 3013, 6822, 6216, 2500, 6325, 19730, 5185, 9323, 3062, 4817, 8750, 4310, 3069, 5391, 3333, 5941, 7167, 4566, 3667, 2346, 2333, 5488, 9167, 9504, 2583, 1993, 3100, 3276, 3033, 3902, 2889, 2755, 2500, 2167, 8300, 81000, 6256, 6096, 2253, 1600, 1025, 3246, 5829, 1820, 14880, 2666, 5935, 2920, 2717, 6500, 12876, 2425, 3750, 1926, 10416, 3660, 7901, 4707, 37719, 7333, 3466, 4652, 3539, 3340, 2769, 2309, 1958, 3948, 2483, 7085, 3859, 4301, 3708, 4354, 8334, 7740, 3015, 4166, 6000, 2947, 4333, 3450, 2653, 4691, 5532, 16525, 6700, 16667, 3095, 2083, 10833, 8333, 1958, 3547, 18333, 4583, 2435, 2699, 5333, 3691, 3597, 2600, 4625, 2895, 6283, 4865, 4050, 3814, 3510, 20833, 2479, 3598, 6065, 3283, 2130, 5815, 3466, 3074, 4683, 2192, 2500, 5677, 7948, 17500, 3775, 5285, 2679, 6783, 1025, 4281, 3588, 11250, 2550, 6133, 3617, 2917, 6417, 2239, 2768, 3358, 2526, 2785, 3333, 2454, 3593, 5468, 10139, 3887, 3675, 5923, 5800, 8799, 4467, 3333, 3400, 3166, 3417, 5116, 16666, 6125, 6406, 3159, 3229, 1782, 3182, 6540, 1836, 1880, 2787, 4283, 2297, 2726, 3000, 6000, 3859, 16120, 3833, 6383, 2987, 9963, 5780, 2894, 5703, 3676, 3400, 3987, 3232, 4106, 8072, 7583], \"xaxis\": \"x\", \"y\": [360.0, 360.0, 360.0, 360.0, 360.0, 360.0, 360.0, 360.0, 360.0, 360.0, 360.0, 360.0, 360.0, 120.0, 360.0, 240.0, 360.0, 360.0, 360.0, 360.0, 360.0, 360.0, 360.0, 360.0, 360.0, 360.0, 360.0, 360.0, 360.0, 360.0, 360.0, 360.0, 360.0, 360.0, 360.0, 360.0, 360.0, 360.0, 360.0, 360.0, 360.0, 360.0, 360.0, 360.0, 360.0, 360.0, 180.0, 360.0, 180.0, 360.0, 60.0, 360.0, 360.0, 300.0, 360.0, 480.0, 360.0, 360.0, 300.0, 360.0, 360.0, 240.0, 360.0, 360.0, 360.0, 360.0, 360.0, 360.0, 180.0, 360.0, 360.0, 120.0, 360.0, 180.0, 360.0, 180.0, 360.0, 360.0, 360.0, 360.0, 360.0, 360.0, 480.0, 360.0, 360.0, 180.0, 360.0, 360.0, 360.0, 360.0, 360.0, 180.0, 360.0, 480.0, 360.0, 360.0, 120.0, 360.0, 360.0, 360.0, 360.0, 360.0, 360.0, 360.0, 180.0, 360.0, 180.0, 360.0, 360.0, 360.0, 360.0, 360.0, 360.0, 360.0, 180.0, 360.0, 360.0, 360.0, 360.0, 360.0, 360.0, 360.0, 360.0, 180.0, 360.0, 480.0, 360.0, 360.0, 180.0, 360.0, 360.0, 360.0, 360.0, 360.0, 360.0, 480.0, 360.0, 360.0, 180.0, 360.0, 360.0, 300.0, 360.0, 180.0, 360.0, 360.0, 360.0, 360.0, 360.0, 360.0, 360.0, 360.0, 360.0, 360.0, 360.0, 360.0, 360.0, 360.0, 360.0, 360.0, 360.0, 360.0, 360.0, 360.0, 360.0, 360.0, 360.0, 360.0, 360.0, 360.0, 360.0, 360.0, 360.0, 360.0, 480.0, 360.0, 360.0, 180.0, 360.0, 360.0, 360.0, 360.0, 360.0, 180.0, 60.0, 360.0, 360.0, 180.0, 360.0, 180.0, 480.0, 360.0, 360.0, 360.0, 180.0, 360.0, 360.0, 360.0, 360.0, 360.0, 360.0, 360.0, 360.0, 360.0, 360.0, 360.0, 360.0, 360.0, 360.0, 360.0, 360.0, 360.0, 360.0, 360.0, 360.0, 360.0, 180.0, 360.0, 360.0, 360.0, 360.0, 360.0, 360.0, 360.0, 360.0, 360.0, 360.0, 360.0, 360.0, 360.0, 360.0, 360.0, 360.0, 360.0, 84.0, 180.0, 360.0, 360.0, 360.0, 360.0, 360.0, 360.0, 360.0, 360.0, 360.0, 360.0, 360.0, 360.0, 180.0, 360.0, 360.0, 360.0, 360.0, 360.0, 360.0, 360.0, 360.0, 360.0, 360.0, 360.0, 360.0, 360.0, 360.0, 360.0, 360.0, 480.0, 360.0, 360.0, 360.0, 300.0, 360.0, 360.0, 480.0, 360.0, 360.0, 360.0, 300.0, 180.0, 180.0, 360.0, 360.0, 480.0, 360.0, 360.0, 360.0, 360.0, 360.0, 180.0, 360.0, 360.0, 360.0, 360.0, 360.0, 360.0, 180.0, 360.0, 360.0, 360.0, 360.0, 180.0, 300.0, 360.0, 360.0, 300.0, 360.0, 360.0, 360.0, 360.0, 360.0, 360.0, 360.0, 360.0, 360.0, 360.0, 360.0, 360.0, 360.0, 180.0, 360.0, 360.0, 360.0, 360.0, 360.0, 360.0, 360.0, 360.0, 360.0, 360.0, 300.0, 360.0, 360.0, 360.0, 360.0, 360.0, 360.0, 300.0, 360.0, 180.0, 360.0, 360.0, 360.0, 360.0, 360.0, 360.0, 180.0, 360.0, 360.0, 360.0, 180.0, 360.0, 360.0, 180.0, 360.0, 360.0, 360.0, 300.0, 360.0, 360.0, 360.0, 360.0, 360.0, 360.0, 360.0, 360.0, 360.0, 360.0, 360.0, 360.0, 360.0, 360.0, 360.0, 12.0, 360.0, 360.0, 360.0, 360.0, 300.0, 360.0, 360.0, 360.0, 360.0, 360.0, 360.0, 180.0, 360.0, 360.0, 360.0, 360.0, 360.0, 360.0, 360.0, 360.0, 360.0, 360.0, 360.0, 360.0, 360.0, 360.0, 360.0, 360.0, 360.0, 360.0, 360.0, 360.0, 360.0, 180.0, 360.0, 360.0, 36.0, 360.0, 360.0, 360.0, 360.0, 180.0, 360.0, 360.0, 360.0, 360.0, 360.0, 360.0, 360.0, 360.0, 360.0, 360.0, 360.0, 360.0, 360.0, 360.0, 480.0, 360.0, 84.0, 360.0, 360.0, 360.0, 360.0, 360.0, 360.0, 360.0, 84.0, 360.0, 360.0, 180.0, 240.0, 180.0, 360.0, 360.0, 360.0, 360.0, 360.0, 360.0, 360.0, 360.0, 360.0, 360.0, 360.0, 360.0, 180.0, 360.0, 360.0], \"yaxis\": \"y\"}, {\"hoverlabel\": {\"namelength\": 0}, \"hovertemplate\": \"Gender=Female<br>ApplicantIncome=%{x}<br>Loan_Amount_Term=%{y}<br>LoanAmount=%{marker.size}\", \"legendgroup\": \"Gender=Female\", \"marker\": {\"color\": \"#EF553B\", \"size\": [76.0, 120.0, 144.0, 120.0, 144.0, 100.0, 120.0, 112.0, 286.0, 116.0, 136.0, 111.0, 167.0, 137.0, 139.0, 154.0, 259.0, 44.0, 137.0, 93.0, 84.0, 100.0, 70.0, 225.0, 112.0, 108.0, 113.0, 120.0, 80.0, 214.0, 127.0, 280.0, 122.0, 112.0, 138.0, 255.0, 155.0, 120.0, 135.0, 90.0, 30.0, 124.0, 54.0, 99.0, 115.0, 143.0, 135.0, 151.0, 132.0, 135.0, 104.0, 84.0, 56.0, 112.0, 132.0, 110.0, 67.0, 71.0, 46.0, 105.0, 130.0, 116.0, 81.0, 55.0, 110.0, 156.0, 71.0, 103.0, 53.0, 194.0, 115.0, 66.0, 62.0, 178.0, 60.0, 160.0, 81.0, 150.0, 138.0, 132.0, 98.0, 93.0, 154.0, 225.0, 105.0, 113.0, 100.0, 40.0, 113.0, 95.0, 125.0, 140.0, 99.0, 95.0, 102.0, 103.0, 84.0, 182.0, 600.0, 9.0, 36.0, 70.0, 350.0, 496.0, 71.0, 133.0], \"sizemode\": \"area\", \"sizeref\": 1.625, \"symbol\": \"circle\"}, \"mode\": \"markers\", \"name\": \"Gender=Female\", \"showlegend\": true, \"type\": \"scatter\", \"x\": [3510, 3750, 3667, 2645, 4000, 1928, 3086, 4230, 11500, 4166, 4300, 3846, 1378, 2484, 2929, 3167, 10408, 4166, 2137, 3692, 4583, 2330, 14866, 10000, 4583, 3625, 3416, 4408, 3244, 10000, 4283, 8333, 3463, 3812, 3427, 3083, 3481, 7200, 3418, 2876, 3237, 4100, 1811, 2600, 4124, 5417, 4666, 5000, 5000, 3762, 2400, 2917, 2507, 3541, 3166, 4333, 2500, 4160, 2378, 5500, 2423, 3813, 4723, 15759, 2764, 6000, 3180, 1500, 1963, 7441, 4547, 2213, 3867, 2149, 2995, 2600, 4606, 8624, 7142, 5191, 210, 2500, 4350, 17263, 3326, 645, 3159, 13262, 2031, 3400, 18165, 4608, 2138, 3652, 3017, 5000, 2667, 4180, 19484, 2378, 3166, 2165, 416, 12000, 2900, 4583], \"xaxis\": \"x\", \"y\": [360.0, 360.0, 360.0, 360.0, 360.0, 360.0, 360.0, 360.0, 360.0, 360.0, 360.0, 360.0, 360.0, 360.0, 360.0, 360.0, 360.0, 360.0, 360.0, 360.0, 360.0, 360.0, 360.0, 360.0, 360.0, 360.0, 360.0, 360.0, 360.0, 360.0, 360.0, 360.0, 360.0, 360.0, 360.0, 360.0, 36.0, 360.0, 360.0, 360.0, 360.0, 360.0, 360.0, 300.0, 360.0, 480.0, 360.0, 480.0, 360.0, 360.0, 360.0, 360.0, 360.0, 360.0, 360.0, 360.0, 360.0, 360.0, 360.0, 360.0, 360.0, 180.0, 360.0, 360.0, 360.0, 360.0, 360.0, 360.0, 360.0, 360.0, 360.0, 360.0, 360.0, 360.0, 360.0, 360.0, 360.0, 360.0, 360.0, 360.0, 360.0, 360.0, 360.0, 360.0, 84.0, 480.0, 360.0, 360.0, 480.0, 360.0, 360.0, 180.0, 360.0, 360.0, 360.0, 360.0, 360.0, 360.0, 360.0, 360.0, 360.0, 360.0, 180.0, 360.0, 360.0, 360.0], \"yaxis\": \"y\"}],\n",
       "                        {\"height\": 600, \"legend\": {\"itemsizing\": \"constant\", \"tracegroupgap\": 0}, \"margin\": {\"t\": 60}, \"template\": {\"data\": {\"bar\": [{\"error_x\": {\"color\": \"#2a3f5f\"}, \"error_y\": {\"color\": \"#2a3f5f\"}, \"marker\": {\"line\": {\"color\": \"#E5ECF6\", \"width\": 0.5}}, \"type\": \"bar\"}], \"barpolar\": [{\"marker\": {\"line\": {\"color\": \"#E5ECF6\", \"width\": 0.5}}, \"type\": \"barpolar\"}], \"carpet\": [{\"aaxis\": {\"endlinecolor\": \"#2a3f5f\", \"gridcolor\": \"white\", \"linecolor\": \"white\", \"minorgridcolor\": \"white\", \"startlinecolor\": \"#2a3f5f\"}, \"baxis\": {\"endlinecolor\": \"#2a3f5f\", \"gridcolor\": \"white\", \"linecolor\": \"white\", \"minorgridcolor\": \"white\", \"startlinecolor\": \"#2a3f5f\"}, \"type\": \"carpet\"}], \"choropleth\": [{\"colorbar\": {\"outlinewidth\": 0, \"ticks\": \"\"}, \"type\": \"choropleth\"}], \"contour\": [{\"colorbar\": {\"outlinewidth\": 0, \"ticks\": \"\"}, \"colorscale\": [[0.0, \"#0d0887\"], [0.1111111111111111, \"#46039f\"], [0.2222222222222222, \"#7201a8\"], [0.3333333333333333, \"#9c179e\"], [0.4444444444444444, \"#bd3786\"], [0.5555555555555556, \"#d8576b\"], [0.6666666666666666, \"#ed7953\"], [0.7777777777777778, \"#fb9f3a\"], [0.8888888888888888, \"#fdca26\"], [1.0, \"#f0f921\"]], \"type\": \"contour\"}], \"contourcarpet\": [{\"colorbar\": {\"outlinewidth\": 0, \"ticks\": \"\"}, \"type\": \"contourcarpet\"}], \"heatmap\": [{\"colorbar\": {\"outlinewidth\": 0, \"ticks\": \"\"}, \"colorscale\": [[0.0, \"#0d0887\"], [0.1111111111111111, \"#46039f\"], [0.2222222222222222, \"#7201a8\"], [0.3333333333333333, \"#9c179e\"], [0.4444444444444444, \"#bd3786\"], [0.5555555555555556, \"#d8576b\"], [0.6666666666666666, \"#ed7953\"], [0.7777777777777778, \"#fb9f3a\"], [0.8888888888888888, \"#fdca26\"], [1.0, \"#f0f921\"]], \"type\": \"heatmap\"}], \"heatmapgl\": [{\"colorbar\": {\"outlinewidth\": 0, \"ticks\": \"\"}, \"colorscale\": [[0.0, \"#0d0887\"], [0.1111111111111111, \"#46039f\"], [0.2222222222222222, \"#7201a8\"], [0.3333333333333333, \"#9c179e\"], [0.4444444444444444, \"#bd3786\"], [0.5555555555555556, \"#d8576b\"], [0.6666666666666666, \"#ed7953\"], [0.7777777777777778, \"#fb9f3a\"], [0.8888888888888888, \"#fdca26\"], [1.0, \"#f0f921\"]], \"type\": \"heatmapgl\"}], \"histogram\": [{\"marker\": {\"colorbar\": {\"outlinewidth\": 0, \"ticks\": \"\"}}, \"type\": \"histogram\"}], \"histogram2d\": [{\"colorbar\": {\"outlinewidth\": 0, \"ticks\": \"\"}, \"colorscale\": [[0.0, \"#0d0887\"], [0.1111111111111111, \"#46039f\"], [0.2222222222222222, \"#7201a8\"], [0.3333333333333333, \"#9c179e\"], [0.4444444444444444, \"#bd3786\"], [0.5555555555555556, \"#d8576b\"], [0.6666666666666666, \"#ed7953\"], [0.7777777777777778, \"#fb9f3a\"], [0.8888888888888888, \"#fdca26\"], [1.0, \"#f0f921\"]], \"type\": \"histogram2d\"}], \"histogram2dcontour\": [{\"colorbar\": {\"outlinewidth\": 0, \"ticks\": \"\"}, \"colorscale\": [[0.0, \"#0d0887\"], [0.1111111111111111, \"#46039f\"], [0.2222222222222222, \"#7201a8\"], [0.3333333333333333, \"#9c179e\"], [0.4444444444444444, \"#bd3786\"], [0.5555555555555556, \"#d8576b\"], [0.6666666666666666, \"#ed7953\"], [0.7777777777777778, \"#fb9f3a\"], [0.8888888888888888, \"#fdca26\"], [1.0, \"#f0f921\"]], \"type\": \"histogram2dcontour\"}], \"mesh3d\": [{\"colorbar\": {\"outlinewidth\": 0, \"ticks\": \"\"}, \"type\": \"mesh3d\"}], \"parcoords\": [{\"line\": {\"colorbar\": {\"outlinewidth\": 0, \"ticks\": \"\"}}, \"type\": \"parcoords\"}], \"scatter\": [{\"marker\": {\"colorbar\": {\"outlinewidth\": 0, \"ticks\": \"\"}}, \"type\": \"scatter\"}], \"scatter3d\": [{\"line\": {\"colorbar\": {\"outlinewidth\": 0, \"ticks\": \"\"}}, \"marker\": {\"colorbar\": {\"outlinewidth\": 0, \"ticks\": \"\"}}, \"type\": \"scatter3d\"}], \"scattercarpet\": [{\"marker\": {\"colorbar\": {\"outlinewidth\": 0, \"ticks\": \"\"}}, \"type\": \"scattercarpet\"}], \"scattergeo\": [{\"marker\": {\"colorbar\": {\"outlinewidth\": 0, \"ticks\": \"\"}}, \"type\": \"scattergeo\"}], \"scattergl\": [{\"marker\": {\"colorbar\": {\"outlinewidth\": 0, \"ticks\": \"\"}}, \"type\": \"scattergl\"}], \"scattermapbox\": [{\"marker\": {\"colorbar\": {\"outlinewidth\": 0, \"ticks\": \"\"}}, \"type\": \"scattermapbox\"}], \"scatterpolar\": [{\"marker\": {\"colorbar\": {\"outlinewidth\": 0, \"ticks\": \"\"}}, \"type\": \"scatterpolar\"}], \"scatterpolargl\": [{\"marker\": {\"colorbar\": {\"outlinewidth\": 0, \"ticks\": \"\"}}, \"type\": \"scatterpolargl\"}], \"scatterternary\": [{\"marker\": {\"colorbar\": {\"outlinewidth\": 0, \"ticks\": \"\"}}, \"type\": \"scatterternary\"}], \"surface\": [{\"colorbar\": {\"outlinewidth\": 0, \"ticks\": \"\"}, \"colorscale\": [[0.0, \"#0d0887\"], [0.1111111111111111, \"#46039f\"], [0.2222222222222222, \"#7201a8\"], [0.3333333333333333, \"#9c179e\"], [0.4444444444444444, \"#bd3786\"], [0.5555555555555556, \"#d8576b\"], [0.6666666666666666, \"#ed7953\"], [0.7777777777777778, \"#fb9f3a\"], [0.8888888888888888, \"#fdca26\"], [1.0, \"#f0f921\"]], \"type\": \"surface\"}], \"table\": [{\"cells\": {\"fill\": {\"color\": \"#EBF0F8\"}, \"line\": {\"color\": \"white\"}}, \"header\": {\"fill\": {\"color\": \"#C8D4E3\"}, \"line\": {\"color\": \"white\"}}, \"type\": \"table\"}]}, \"layout\": {\"annotationdefaults\": {\"arrowcolor\": \"#2a3f5f\", \"arrowhead\": 0, \"arrowwidth\": 1}, \"colorscale\": {\"diverging\": [[0, \"#8e0152\"], [0.1, \"#c51b7d\"], [0.2, \"#de77ae\"], [0.3, \"#f1b6da\"], [0.4, \"#fde0ef\"], [0.5, \"#f7f7f7\"], [0.6, \"#e6f5d0\"], [0.7, \"#b8e186\"], [0.8, \"#7fbc41\"], [0.9, \"#4d9221\"], [1, \"#276419\"]], \"sequential\": [[0.0, \"#0d0887\"], [0.1111111111111111, \"#46039f\"], [0.2222222222222222, \"#7201a8\"], [0.3333333333333333, \"#9c179e\"], [0.4444444444444444, \"#bd3786\"], [0.5555555555555556, \"#d8576b\"], [0.6666666666666666, \"#ed7953\"], [0.7777777777777778, \"#fb9f3a\"], [0.8888888888888888, \"#fdca26\"], [1.0, \"#f0f921\"]], \"sequentialminus\": [[0.0, \"#0d0887\"], [0.1111111111111111, \"#46039f\"], [0.2222222222222222, \"#7201a8\"], [0.3333333333333333, \"#9c179e\"], [0.4444444444444444, \"#bd3786\"], [0.5555555555555556, \"#d8576b\"], [0.6666666666666666, \"#ed7953\"], [0.7777777777777778, \"#fb9f3a\"], [0.8888888888888888, \"#fdca26\"], [1.0, \"#f0f921\"]]}, \"colorway\": [\"#636efa\", \"#EF553B\", \"#00cc96\", \"#ab63fa\", \"#FFA15A\", \"#19d3f3\", \"#FF6692\", \"#B6E880\", \"#FF97FF\", \"#FECB52\"], \"font\": {\"color\": \"#2a3f5f\"}, \"geo\": {\"bgcolor\": \"white\", \"lakecolor\": \"white\", \"landcolor\": \"#E5ECF6\", \"showlakes\": true, \"showland\": true, \"subunitcolor\": \"white\"}, \"hoverlabel\": {\"align\": \"left\"}, \"hovermode\": \"closest\", \"mapbox\": {\"style\": \"light\"}, \"paper_bgcolor\": \"white\", \"plot_bgcolor\": \"#E5ECF6\", \"polar\": {\"angularaxis\": {\"gridcolor\": \"white\", \"linecolor\": \"white\", \"ticks\": \"\"}, \"bgcolor\": \"#E5ECF6\", \"radialaxis\": {\"gridcolor\": \"white\", \"linecolor\": \"white\", \"ticks\": \"\"}}, \"scene\": {\"xaxis\": {\"backgroundcolor\": \"#E5ECF6\", \"gridcolor\": \"white\", \"gridwidth\": 2, \"linecolor\": \"white\", \"showbackground\": true, \"ticks\": \"\", \"zerolinecolor\": \"white\"}, \"yaxis\": {\"backgroundcolor\": \"#E5ECF6\", \"gridcolor\": \"white\", \"gridwidth\": 2, \"linecolor\": \"white\", \"showbackground\": true, \"ticks\": \"\", \"zerolinecolor\": \"white\"}, \"zaxis\": {\"backgroundcolor\": \"#E5ECF6\", \"gridcolor\": \"white\", \"gridwidth\": 2, \"linecolor\": \"white\", \"showbackground\": true, \"ticks\": \"\", \"zerolinecolor\": \"white\"}}, \"shapedefaults\": {\"line\": {\"color\": \"#2a3f5f\"}}, \"ternary\": {\"aaxis\": {\"gridcolor\": \"white\", \"linecolor\": \"white\", \"ticks\": \"\"}, \"baxis\": {\"gridcolor\": \"white\", \"linecolor\": \"white\", \"ticks\": \"\"}, \"bgcolor\": \"#E5ECF6\", \"caxis\": {\"gridcolor\": \"white\", \"linecolor\": \"white\", \"ticks\": \"\"}}, \"title\": {\"x\": 0.05}, \"xaxis\": {\"automargin\": true, \"gridcolor\": \"white\", \"linecolor\": \"white\", \"ticks\": \"\", \"zerolinecolor\": \"white\", \"zerolinewidth\": 2}, \"yaxis\": {\"automargin\": true, \"gridcolor\": \"white\", \"linecolor\": \"white\", \"ticks\": \"\", \"zerolinecolor\": \"white\", \"zerolinewidth\": 2}}}, \"xaxis\": {\"anchor\": \"y\", \"domain\": [0.0, 0.98], \"title\": {\"text\": \"ApplicantIncome\"}}, \"yaxis\": {\"anchor\": \"x\", \"domain\": [0.0, 1.0], \"title\": {\"text\": \"Loan_Amount_Term\"}}},\n",
       "                        {\"responsive\": true}\n",
       "                    ).then(function(){\n",
       "                            \n",
       "var gd = document.getElementById('adeb8cba-c306-4017-ab65-b2de1c466042');\n",
       "var x = new MutationObserver(function (mutations, observer) {{\n",
       "        var display = window.getComputedStyle(gd).display;\n",
       "        if (!display || display === 'none') {{\n",
       "            console.log([gd, 'removed!']);\n",
       "            Plotly.purge(gd);\n",
       "            observer.disconnect();\n",
       "        }}\n",
       "}});\n",
       "\n",
       "// Listen for the removal of the full notebook cells\n",
       "var notebookContainer = gd.closest('#notebook-container');\n",
       "if (notebookContainer) {{\n",
       "    x.observe(notebookContainer, {childList: true});\n",
       "}}\n",
       "\n",
       "// Listen for the clearing of the current output cell\n",
       "var outputEl = gd.closest('.output');\n",
       "if (outputEl) {{\n",
       "    x.observe(outputEl, {childList: true});\n",
       "}}\n",
       "\n",
       "                        })\n",
       "                };\n",
       "                });\n",
       "            </script>\n",
       "        </div>"
      ]
     },
     "metadata": {},
     "output_type": "display_data"
    }
   ],
   "source": [
    "px.scatter(loan, x = \"ApplicantIncome\", y = \"Loan_Amount_Term\", color='Gender', size='LoanAmount')"
   ]
  },
  {
   "cell_type": "code",
   "execution_count": 63,
   "metadata": {},
   "outputs": [
    {
     "data": {
      "text/plain": [
       "<seaborn.axisgrid.FacetGrid at 0x1a0bcfd0278>"
      ]
     },
     "execution_count": 63,
     "metadata": {},
     "output_type": "execute_result"
    },
    {
     "data": {
      "image/png": "[encoded data removed]",
      "text/plain": [
       "<Figure size 360x360 with 1 Axes>"
      ]
     },
     "metadata": {
      "needs_background": "light"
     },
     "output_type": "display_data"
    }
   ],
   "source": [
    "sns.catplot(x = 'Loan_Amount_Term', y = 'LoanAmount', kind='boxen', data=loan)"
   ]
  },
  {
   "cell_type": "code",
   "execution_count": 68,
   "metadata": {},
   "outputs": [
    {
     "data": {
      "text/plain": [
       "<seaborn.axisgrid.JointGrid at 0x1a0bde175f8>"
      ]
     },
     "execution_count": 68,
     "metadata": {},
     "output_type": "execute_result"
    },
    {
     "data": {
      "image/png": "[encoded data removed]",
      "text/plain": [
       "<Figure size 432x432 with 3 Axes>"
      ]
     },
     "metadata": {
      "needs_background": "light"
     },
     "output_type": "display_data"
    }
   ],
   "source": [
    "sns.jointplot(x='LoanAmount', y='ApplicantIncome', kind='reg', data=loan)"
   ]
  },
  {
   "cell_type": "code",
   "execution_count": null,
   "metadata": {},
   "outputs": [],
   "source": []
  }
 ],
 "metadata": {
  "kernelspec": {
   "display_name": "Python 3",
   "language": "python",
   "name": "python3"
  },
  "language_info": {
   "codemirror_mode": {
    "name": "ipython",
    "version": 3
   },
   "file_extension": ".py",
   "mimetype": "text/x-python",
   "name": "python",
   "nbconvert_exporter": "python",
   "pygments_lexer": "ipython3",
   "version": "3.7.3"
  }
 },
 "nbformat": 4,
 "nbformat_minor": 2
}
