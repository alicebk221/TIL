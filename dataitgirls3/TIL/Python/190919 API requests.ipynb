{
 "cells": [
  {
   "cell_type": "markdown",
   "metadata": {},
   "source": [
    "# 동물보호관리시스템 유기동물 조회 서비스\n",
    "\n",
    "<https://www.data.go.kr/dataset/15001096/openapi.do>"
   ]
  },
  {
   "cell_type": "markdown",
   "metadata": {},
   "source": [
    "터미널 또는 Git Bash에서 다음을 입력해 API 키를 사용합니다.\n",
    "\n",
    "```bash\n",
    "# 환경변수 설정. 발급 받은 키로 변경해 주세요.\n",
    "export ANIMAL_API_KEY=abcdefghijklm%2FvSfZeu4FoGpl2eGP%2FzlR5eGh%2F9M8jbOv4HPFZI%2BM7ckZstS8OzkMKHNBkpAtdZX6T8VoRl4Q%3D%3D\n",
    "\n",
    "# Jupyter Notebook 실행\n",
    "jupyter notebook\n",
    "```\n",
    "\n",
    "anaconda prompt에서 하는 법\n",
    "```\n",
    "set ANIMAL_API_KEY=키 주소\n",
    "```"
   ]
  },
  {
   "cell_type": "code",
   "execution_count": 2,
   "metadata": {},
   "outputs": [],
   "source": [
    "# 환경 변수에서 API 키 가져오기\n",
    "\n",
    "import os\n",
    "\n",
    "key = os.environ['ANIMAL_API_KEY']\n"
   ]
  },
  {
   "cell_type": "code",
   "execution_count": 3,
   "metadata": {},
   "outputs": [],
   "source": [
    "# API 키 값이 URL 인코딩(encoding)된 상태라 다시 디코딩(decoding).\n",
    "\n",
    "from urllib.parse import unquote\n",
    "\n",
    "API_KEY = unquote(key)"
   ]
  },
  {
   "cell_type": "markdown",
   "metadata": {},
   "source": [
    "## requests\n",
    "\n",
    "> Requests is an elegant and simple HTTP library for Python, built for human beings.\n",
    "\n",
    "<https://2.python-requests.org/>"
   ]
  },
  {
   "cell_type": "code",
   "execution_count": 4,
   "metadata": {},
   "outputs": [
    {
     "data": {
      "text/plain": [
       "'2.22.0'"
      ]
     },
     "execution_count": 4,
     "metadata": {},
     "output_type": "execute_result"
    }
   ],
   "source": [
    "# requests 사용\n",
    "\n",
    "import requests\n",
    "\n",
    "requests.__version__"
   ]
  },
  {
   "cell_type": "markdown",
   "metadata": {},
   "source": [
    "## 동물보호관리시스템 유기동물 조회 서비스 API 사용\n",
    "\n",
    "API는 Base URL과 `?` 뒤에 `key=value` 형태로 붙는 (연속일 경우 `&` 삽입)\n",
    "Query Parameters로 구성되어 있습니다.\n",
    "\n",
    "Base URL: `http://openapi.animal.go.kr:80/openapi/service/rest/abandonmentPublicSrvc`\n",
    "\n",
    "Query Parameters:\n",
    "\n",
    "- `serviceKey`: API 키\n",
    "- `bgnde`: 유기날짜 (검색 시작일) (YYYYMMDD)\n",
    "- `endde`: 유기날짜 (검색 종료일) (YYYYMMDD)\n",
    "- `numOfRows`: 페이지당 보여줄 개수"
   ]
  },
  {
   "cell_type": "code",
   "execution_count": 5,
   "metadata": {},
   "outputs": [],
   "source": [
    "# 동물보호관리시스템 유기동물 조회 서비스 API\n",
    "\n",
    "url = 'http://openapi.animal.go.kr/openapi/service/rest/abandonmentPublicSrvc/abandonmentPublic'\n",
    "\n",
    "payload = {\n",
    "    'serviceKey': API_KEY,\n",
    "    'bgnde': '20190201',\n",
    "    'endde': '20190210',\n",
    "    'numOfRows': 10,\n",
    "}\n",
    "\n",
    "response = requests.get(url, params=payload)\n"
   ]
  },
  {
   "cell_type": "markdown",
   "metadata": {},
   "source": [
    "## XML Beautifier로 확인\n",
    "\n",
    "<https://xmlbeautifier.com/>"
   ]
  },
  {
   "cell_type": "markdown",
   "metadata": {},
   "source": [
    "```xml\n",
    "<?xml version=\"1.0\" encoding=\"UTF-8\" standalone=\"yes\"?>\n",
    "<response>\n",
    "    <header>\n",
    "        <resultCode>00</resultCode>\n",
    "        <resultMsg>NORMAL SERVICE.</resultMsg>\n",
    "    </header>\n",
    "    <body>\n",
    "        <items>\n",
    "            <item>\n",
    "                <age>2018(년생)</age>\n",
    "                <careAddr>경상남도 창원시 진해구 웅천로 218 (성내동, 농업기술센터) 205번지 </careAddr>\n",
    "                <careNm>진해유기동물보호소</careNm>\n",
    "                <careTel>055-225-5483</careTel>\n",
    "                <chargeNm>진해구</chargeNm>\n",
    "                <colorCd>크림</colorCd>\n",
    "                <desertionNo>448532201900770</desertionNo>\n",
    "                <filename>http://www.animal.go.kr/files/shelter/2019/09/201909191009374_s.jpg</filename>\n",
    "                <happenDt>20190919</happenDt>\n",
    "                <happenPlace>진해구 웅천로 156</happenPlace>\n",
    "                <kindCd>[개] 믹스견</kindCd>\n",
    "                <neuterYn>N</neuterYn>\n",
    "                <noticeEdt>20190930</noticeEdt>\n",
    "                <noticeNo>경남-창원3-2019-00439</noticeNo>\n",
    "                <noticeSdt>20190919</noticeSdt>\n",
    "                <officetel>055-225-5483</officetel>\n",
    "                <orgNm>경상남도 창원시 진해구</orgNm>\n",
    "                <popfile>http://www.animal.go.kr/files/shelter/2019/09/201909191009374.jpg</popfile>\n",
    "                <processState>보호중</processState>\n",
    "                <sexCd>F</sexCd>\n",
    "                <specialMark>칩X, 쫑긋한 귀, 윤기나는 털, 우아한 분위기, 사람을 좋아하고 사랑스러움</specialMark>\n",
    "                <weight>3.5(Kg)</weight>\n",
    "            </item>\n",
    "        </items>\n",
    "        <numOfRows>1</numOfRows>\n",
    "        <pageNo>1</pageNo>\n",
    "        <totalCount>6986</totalCount>\n",
    "    </body>\n",
    "</response>\n",
    "```"
   ]
  },
  {
   "cell_type": "code",
   "execution_count": null,
   "metadata": {},
   "outputs": [],
   "source": []
  }
 ],
 "metadata": {
  "kernelspec": {
   "display_name": "Python 3",
   "language": "python",
   "name": "python3"
  },
  "language_info": {
   "codemirror_mode": {
    "name": "ipython",
    "version": 3
   },
   "file_extension": ".py",
   "mimetype": "text/x-python",
   "name": "python",
   "nbconvert_exporter": "python",
   "pygments_lexer": "ipython3",
   "version": "3.7.3"
  }
 },
 "nbformat": 4,
 "nbformat_minor": 2
}
